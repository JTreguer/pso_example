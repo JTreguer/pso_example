{
 "cells": [
  {
   "cell_type": "markdown",
   "metadata": {},
   "source": [
    "# Example of Particle Swarm Optimization\n",
    "\n",
    "Taken from [Wikipedia](https://en.wikipedia.org/wiki/Particle_swarm_optimization)\n",
    "Only difference: maximization instead of minimization"
   ]
  },
  {
   "cell_type": "code",
   "execution_count": 2,
   "metadata": {},
   "outputs": [],
   "source": [
    "import numpy as np\n",
    "import matplotlib.pyplot as plt"
   ]
  },
  {
   "cell_type": "code",
   "execution_count": 90,
   "metadata": {},
   "outputs": [
    {
     "name": "stdout",
     "output_type": "stream",
     "text": [
      "[-0.30062365 -3.63842414  2.5265265  -0.5523774 ]\n",
      "[-0.30062365 -3.63842414  2.5265265  -0.5523774 ]\n",
      "[-0.30062365 -3.63842414  0.38727182 -0.5523774 ]\n",
      "[-1.50549296 -2.90711561 -1.3618181  -0.5523774 ]\n",
      "[-0.74106001 -2.09204962 -1.3618181  -1.11415924]\n",
      "[-0.74106001 -1.48911332 -1.3618181  -1.11415924]\n",
      "[-0.74106001 -1.18764518 -1.3618181  -1.11415924]\n",
      "[-0.79015258 -1.0369111  -1.22406614 -1.11415924]\n",
      "[-0.95805878 -1.0369111  -1.03327573 -1.11415924]\n",
      "[-0.95805878 -1.0369111  -1.03327573 -1.11415924]\n",
      "[-0.95805878 -0.97497242 -1.03327573 -1.11415924]\n",
      "[-1.01225608 -0.98679423 -1.03327573 -1.03043056]\n",
      "[-1.01225608 -0.99609282 -1.01353828 -1.03043056]\n",
      "[-1.01225608 -1.00074211 -1.01353828 -1.03043056]\n",
      "[-0.99061673 -1.00074211 -1.01353828 -0.98753656]\n",
      "[-1.00297851 -1.00074211 -1.01353828 -0.98753656]\n",
      "number of steps  16\n",
      "Last 2 global best points -1.0030667552798034 -1.002978512786796\n",
      "Max f value 1.9999911284615788\n"
     ]
    },
    {
     "data": {
      "text/plain": [
       "[(0.4, 0, 0), (0.4, 0, 0), (0.4, 0, 0), (0.4, 0, 0)]"
      ]
     },
     "execution_count": 90,
     "metadata": {},
     "output_type": "execute_result"
    },
    {
     "data": {
      "image/png": "[encoded data removed]",
      "text/plain": [
       "<Figure size 720x576 with 1 Axes>"
      ]
     },
     "metadata": {
      "needs_background": "light"
     },
     "output_type": "display_data"
    }
   ],
   "source": [
    "# Function to maximize\n",
    "def f(x):\n",
    "    return -(x+1)**2+2\n",
    "\n",
    "# Parameters\n",
    "n = 4\n",
    "xmin = -5.\n",
    "xmax = 5.\n",
    "omega = 0.5\n",
    "phip = 0.5\n",
    "phig = 0.5\n",
    "\n",
    "eps = 0.001\n",
    "\n",
    "# Initialization\n",
    "x = np.random.random(n)*(xmax-xmin)+xmin\n",
    "vmin = xmin - xmax\n",
    "vmax = - vmin\n",
    "v = np.random.random(n)*(vmax-vmin)+vmin\n",
    "local_best= np.zeros(n)\n",
    "local_best = x\n",
    "global_best = x[np.argmax(f(x))]\n",
    "\n",
    "# Main loop\n",
    "c = 1e9\n",
    "count = 0\n",
    "plt.figure(figsize=(10,8))\n",
    "while c > eps:\n",
    "    plt.xlim(xmin,xmax)\n",
    "    color = [(1-count/25.,0,0) for i in range(n)]\n",
    "    plt.scatter(x,f(x),s=10*(count+1),c =color,cmap=plt.get_cmap(\"Reds\"))\n",
    "    saved_global_best = global_best\n",
    "    rp = np.random.random(n)\n",
    "    rg = np.random.random(n)\n",
    "    v = omega * v + phip * rp * (local_best - x) + phig * rg * (global_best - x)\n",
    "    x = x + v\n",
    "    local_best_idx = ((f(x) - f(local_best)) > 0)\n",
    "    local_best[local_best_idx] = x[local_best_idx]\n",
    "    print(local_best)\n",
    "    new_global_best = x[np.argmax(f(x))]\n",
    "    c = abs(new_global_best - global_best)\n",
    "    global_best = new_global_best\n",
    "    count = count + 1\n",
    "\n",
    "print(\"number of steps \", count)\n",
    "print(\"Last 2 global best points\", saved_global_best,new_global_best)\n",
    "print(\"Max f value\", f(global_best))\n",
    "color"
   ]
  },
  {
   "cell_type": "code",
   "execution_count": null,
   "metadata": {},
   "outputs": [],
   "source": [
    "def f(x):\n",
    "    return -(x+1)**2+2"
   ]
  }
 ],
 "metadata": {
  "kernelspec": {
   "display_name": "Python 3",
   "language": "python",
   "name": "python3"
  },
  "language_info": {
   "codemirror_mode": {
    "name": "ipython",
    "version": 3
   },
   "file_extension": ".py",
   "mimetype": "text/x-python",
   "name": "python",
   "nbconvert_exporter": "python",
   "pygments_lexer": "ipython3",
   "version": "3.7.5"
  }
 },
 "nbformat": 4,
 "nbformat_minor": 2
}
