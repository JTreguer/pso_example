{
 "cells": [
  {
   "cell_type": "markdown",
   "metadata": {},
   "source": [
    "# Example of Particle Swarm Optimization\n",
    "\n",
    "Taken from [Wikipedia](https://en.wikipedia.org/wiki/Particle_swarm_optimization)\n",
    "Only difference: maximization instead of minimization"
   ]
  },
  {
   "cell_type": "code",
   "execution_count": 1,
   "metadata": {},
   "outputs": [],
   "source": [
    "import numpy as np\n",
    "import matplotlib.pyplot as plt"
   ]
  },
  {
   "cell_type": "code",
   "execution_count": 46,
   "metadata": {},
   "outputs": [
    {
     "name": "stdout",
     "output_type": "stream",
     "text": [
      "[ 0.72365084  1.83638498 -4.34411637  1.56469388]\n",
      "[-0.06361279  1.83638498 -2.49182691 -0.26975568]\n",
      "[-0.47100297  1.2874034  -0.9552775  -1.18698046]\n",
      "[-0.78194547 -1.38595303 -0.9552775  -1.18698046]\n",
      "[-0.93741673 -1.38595303 -0.9552775  -1.18698046]\n",
      "[-1.01515235 -1.38595303 -0.9552775  -0.97118758]\n",
      "[-1.01515235 -1.38595303 -0.9552775  -0.97118758]\n",
      "[-1.01515235 -0.84551035 -0.9552775  -0.97118758]\n",
      "[-1.01515235 -0.84551035 -0.9552775  -0.97981638]\n",
      "[-1.01515235 -0.84551035 -0.9552775  -0.97981638]\n",
      "[-1.01515235 -0.84551035 -0.9552775  -0.97981638]\n",
      "[-1.00828264 -0.97594215 -0.9552775  -1.01030421]\n",
      "[-1.00447148 -0.97594215 -0.9552775  -1.01030421]\n",
      "[-1.0025659  -0.97594215 -0.9552775  -1.01030421]\n",
      "[-1.00161311 -0.97594215 -0.99903997 -0.99820286]\n",
      "[-1.00044014 -0.97594215 -0.99903997 -0.99820286]\n",
      "[-0.99985365 -0.97594215 -0.99903997 -0.99820286]\n",
      "number of steps  17\n",
      "Last 2 global best points -1.0004401360660262 -0.9998536467856621\n",
      "Max f value 1.9999999785807367\n"
     ]
    },
    {
     "data": {
      "image/png": "[encoded data removed]",
      "text/plain": [
       "<Figure size 720x576 with 1 Axes>"
      ]
     },
     "metadata": {
      "needs_background": "light"
     },
     "output_type": "display_data"
    }
   ],
   "source": [
    "# Function to maximize\n",
    "def f(x):\n",
    "    return -(x+1)**2+2\n",
    "\n",
    "# Parameters\n",
    "n = 4\n",
    "xmin = -5.\n",
    "xmax = 5.\n",
    "omega = 0.5\n",
    "phip = 0.5\n",
    "phig = 0.5\n",
    "\n",
    "eps = 0.001\n",
    "\n",
    "# Initialization\n",
    "x = np.random.random(n)*(xmax-xmin)+xmin\n",
    "vmin = xmin - xmax\n",
    "vmax = - vmin\n",
    "v = np.random.random(n)*(vmax-vmin)+vmin\n",
    "local_best= np.zeros(n)\n",
    "local_best = x\n",
    "global_best = x[np.argmax(f(x))]\n",
    "\n",
    "# Main loop\n",
    "c = 1e9\n",
    "count = 0\n",
    "plt.figure(figsize=(10,8))\n",
    "while c > eps:\n",
    "    plt.xlim(xmin,xmax)\n",
    "    plt.plot(x,f(x),'+')\n",
    "    saved_global_best = global_best\n",
    "    rp = np.random.random(n)\n",
    "    rg = np.random.random(n)\n",
    "    v = omega * v + phip * rp * (local_best - x) + phig * rg * (global_best - x)\n",
    "    x = x + v\n",
    "    local_best_idx = ((f(x) - f(local_best)) > 0)\n",
    "    local_best[local_best_idx] = x[local_best_idx]\n",
    "    print(local_best)\n",
    "    new_global_best = x[np.argmax(f(x))]\n",
    "    c = abs(new_global_best - global_best)\n",
    "    global_best = new_global_best\n",
    "    count = count + 1\n",
    "\n",
    "print(\"number of steps \", count)\n",
    "print(\"Last 2 global best points\", saved_global_best,new_global_best)\n",
    "print(\"Max f value\", f(global_best))\n"
   ]
  },
  {
   "cell_type": "code",
   "execution_count": null,
   "metadata": {},
   "outputs": [],
   "source": []
  }
 ],
 "metadata": {
  "kernelspec": {
   "display_name": "Python 3",
   "language": "python",
   "name": "python3"
  },
  "language_info": {
   "codemirror_mode": {
    "name": "ipython",
    "version": 3
   },
   "file_extension": ".py",
   "mimetype": "text/x-python",
   "name": "python",
   "nbconvert_exporter": "python",
   "pygments_lexer": "ipython3",
   "version": "3.7.5"
  }
 },
 "nbformat": 4,
 "nbformat_minor": 2
}
